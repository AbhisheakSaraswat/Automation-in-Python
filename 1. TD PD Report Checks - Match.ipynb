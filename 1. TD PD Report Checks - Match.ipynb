{
 "cells": [
  {
   "cell_type": "markdown",
   "metadata": {},
   "source": [
    "#### Import Libraries"
   ]
  },
  {
   "cell_type": "code",
   "execution_count": 1,
   "metadata": {},
   "outputs": [],
   "source": [
    "# Import required libraries for execution\n",
    "import pandas as pd\n",
    "import datetime\n",
    "import os\n",
    "import numpy as np\n",
    "\n",
    "# Get username of the windows Account to be used in the folder paths\n",
    "user = os.getenv('username')"
   ]
  },
  {
   "cell_type": "markdown",
   "metadata": {},
   "source": [
    "#### Define Report Folders and Variables"
   ]
  },
  {
   "cell_type": "code",
   "execution_count": 2,
   "metadata": {},
   "outputs": [],
   "source": [
    "# Define the folders for input files and final reports\n",
    "\n",
    "main_folder = \"C:/Users/\"+user+\"/Desktop/Airtel/Source Files/\"\n",
    "report_folder = \"C:/Users/\"+user+\"/Desktop/Airtel/Reports/Active TD Report/\"\n",
    "report_folder_2 = \"C:/Users/\"+user+\"/Desktop/Airtel/Reports/Active TD Report/Historical/\"\n",
    "mypath = \"C:/Users/\"+user+\"/Desktop/Airtel/Airtel Reports/PD Sheets\"\n",
    "\n",
    "# Dates for file name and invoices to be read\n",
    "\n",
    "curr_mon = datetime.datetime.today().strftime('%b%y') #'01Feb18'\n",
    "curr_date = datetime.datetime.today().strftime('%d%b%y') #'01Feb18'\n",
    "\n",
    "# Create monthly folders if not present already\n",
    "\n",
    "if not os.path.exists(report_folder_2+\"/\"+curr_mon):\n",
    "    os.makedirs(report_folder_2+\"/\"+curr_mon)\n",
    "    \n",
    "pd_file_name = 'PD - 29Jan19'\n",
    "td_file_name = 'TD - 29Jan19'\n",
    "\n",
    "emi_analysis_date = datetime.datetime.now().date() #'2018-12-14' Execution date in the format 'YYYY-MM-DD'"
   ]
  },
  {
   "cell_type": "markdown",
   "metadata": {},
   "source": [
    "#### Import Files"
   ]
  },
  {
   "cell_type": "code",
   "execution_count": 3,
   "metadata": {},
   "outputs": [
    {
     "name": "stdout",
     "output_type": "stream",
     "text": [
      "Data Reading Complete!\n"
     ]
    }
   ],
   "source": [
    "# Excel File with Active/TD/PD details\n",
    "\n",
    "xls = pd.ExcelFile(main_folder + pd_file_name + '.xlsx')\n",
    "\n",
    "try:\n",
    "    pd_data = pd.read_excel(xls, 'PD Base')\n",
    "except:\n",
    "    pd_name = input(\"Please enter the name of the PD sheet (Airtel changed it again, why am I not suprised?): \")\n",
    "    pd_data = pd.read_excel(xls, pd_name)\n",
    "\n",
    "xls = pd.ExcelFile(main_folder + td_file_name + '.xlsx')\n",
    "\n",
    "try:\n",
    "    td_data = pd.read_excel(xls, 'Details')\n",
    "except:\n",
    "    td_name = input(\"Please enter the name of the Active/TD sheet (Airtel changed it again, why am I not suprised?): \")\n",
    "    td_data = pd.read_excel(xls, td_name)\n",
    "    \n",
    "adf_master = pd.read_csv(main_folder + 'master_anuj.csv')\n",
    "borr_mobile = pd.read_csv(main_folder + 'borr_mobile.csv').fillna(0)\n",
    "CLS_EMI_data = pd.read_csv(main_folder + 'CLS_EMI_Data.csv').fillna(0)\n",
    "\n",
    "print(\"Data Reading Complete!\")"
   ]
  },
  {
   "cell_type": "markdown",
   "metadata": {},
   "source": [
    "### Check: Match PD Numbers with Billing details sheet"
   ]
  },
  {
   "cell_type": "code",
   "execution_count": 6,
   "metadata": {},
   "outputs": [
    {
     "name": "stdout",
     "output_type": "stream",
     "text": [
      "Match        2809\n",
      "Not Match     213\n",
      "Name: flag, dtype: int64\n",
      "if Not Match found please report to Airtel\n"
     ]
    }
   ],
   "source": [
    "xls = pd.ExcelFile(main_folder + pd_file_name + '.xlsx')\n",
    "try:\n",
    "    pd_data_billing = pd.read_excel(xls, sheet_name='Billing Details')\n",
    "except:\n",
    "    pd_name = input(\"Please enter the name of the PD sheet (Airtel changed it again, why am I not suprised?): \")\n",
    "    pd_data_billing = pd.read_excel(xls, sheet_name=pd_name)\n",
    "\n",
    "pd_data_numbers = pd_data[['MOBILE_NO']].drop_duplicates(subset='MOBILE_NO')\n",
    "pd_data_billing_numbers = pd_data_billing[['MOBILE_NO']].drop_duplicates(subset='MOBILE_NO')\n",
    "pd_data_billing_numbers['flag'] = \"Match\"\n",
    "\n",
    "pd_number_check = pd.merge(pd_data_numbers, pd_data_billing_numbers, on='MOBILE_NO', how='left').fillna(\"Not Match\")\n",
    "\n",
    "print(pd_number_check['flag'].value_counts())\n",
    "print(\"if Not Match found please report to Airtel\")"
   ]
  },
  {
   "cell_type": "markdown",
   "metadata": {},
   "source": [
    "#### List Of Cases from Airtel"
   ]
  },
  {
   "cell_type": "code",
   "execution_count": 7,
   "metadata": {},
   "outputs": [
    {
     "data": {
      "text/plain": [
       "(26354, 3)"
      ]
     },
     "execution_count": 7,
     "metadata": {},
     "output_type": "execute_result"
    }
   ],
   "source": [
    "td_mobiles = list(td_data['Loan ID'].unique())\n",
    "td_numbers = pd.DataFrame(data = td_mobiles, columns = ['loan_ref_no'])\n",
    "td_numbers['Airtel_Status'] = 'Active/TD'\n",
    "\n",
    "pd_mobiles = list(pd_data['Loan ID '].unique())\n",
    "pd_numbers = pd.DataFrame(data = pd_mobiles, columns = ['loan_ref_no'])\n",
    "pd_numbers['Airtel_Status'] = 'PD'\n",
    "\n",
    "report_numbers = td_numbers.append(pd_numbers)\n",
    "\n",
    "report_numbers['presence_flag'] = 1\n",
    "\n",
    "report_numbers.shape"
   ]
  },
  {
   "cell_type": "markdown",
   "metadata": {},
   "source": [
    "### Check 1: Missing Numbers from the sheet"
   ]
  },
  {
   "cell_type": "code",
   "execution_count": 8,
   "metadata": {},
   "outputs": [
    {
     "name": "stdout",
     "output_type": "stream",
     "text": [
      "Information missing for:  367  cases\n"
     ]
    }
   ],
   "source": [
    "borr_mobile = borr_mobile[(borr_mobile['Loan Application Status'] != 'Application Incomplete')]\n",
    "borr_mobile = borr_mobile[(borr_mobile['Loan Application Status'] != 'Loan Cancelled')]\n",
    "borr_mobile = borr_mobile[(borr_mobile['Loan Application Status'] != 'Seynse Approved')]\n",
    "\n",
    "adf_master = adf_master[(adf_master['Loan Application Status'] != 'Application Incomplete')]\n",
    "adf_master = adf_master[(adf_master['Loan Application Status'] != 'Loan Cancelled')]\n",
    "adf_master = adf_master[(adf_master['Loan Application Status'] != 'Seynse Approved')]\n",
    "\n",
    "adf_master = adf_master[(adf_master['Loan Application Status'] == 'Disbursed') & (adf_master['Is Employee'] == 0)]\n",
    "borr_mobile = borr_mobile[(borr_mobile['Loan Application Status'] == 'Disbursed')]\n",
    "\n",
    "borr_mobile = borr_mobile[['Loan Reference Number','MSISDN']]\n",
    "borr_mobile = borr_mobile.rename(columns={'Loan Reference Number': 'loan_ref_no','MSISDN': 'Mobile_No'})\n",
    "adf_master = adf_master.rename(columns={'Loan App Reference Number': 'loan_ref_no'})\n",
    "# print(borr_mobile['Loan Application Status'].unique())\n",
    "\n",
    "def to_int_conv(num):\n",
    "    return int(num.replace('?',''))\n",
    "\n",
    "borr_mobile['Mobile_No'] = borr_mobile.apply(lambda x: to_int_conv(str(x['Mobile_No'])),axis=1)\n",
    "adf_master_msisdn = pd.merge(adf_master, borr_mobile, on = 'loan_ref_no', how = 'left')\n",
    "delivered_devices = adf_master_msisdn#[adf_master_msisdn['delivery_flag']==1]\n",
    "\n",
    "delivered_airtel_data = pd.merge(delivered_devices, report_numbers, on = 'loan_ref_no', how = 'left').fillna(0)\n",
    "missing_data = delivered_airtel_data[delivered_airtel_data['presence_flag']==0]\n",
    "print(\"Information missing for: \",len(missing_data), \" cases\")"
   ]
  },
  {
   "cell_type": "code",
   "execution_count": 7,
   "metadata": {},
   "outputs": [],
   "source": [
    "# missing_data.to_excel('missing_data_' + curr_date + '.xlsx',index=False)"
   ]
  },
  {
   "cell_type": "markdown",
   "metadata": {},
   "source": [
    "### Check 2: Consistency across reports - PD Dates (Point #4)"
   ]
  },
  {
   "cell_type": "code",
   "execution_count": 1,
   "metadata": {},
   "outputs": [],
   "source": [
    "from os import listdir\n",
    "from os.path import isfile, join\n",
    "\n",
    "# Location of the CIR text files\n",
    "onlyfiles = [f for f in listdir(mypath) if isfile(join(mypath, f))]\n",
    "\n",
    "pd_files = onlyfiles\n",
    "pd_file_details = pd.DataFrame({'loan_ref_no':pd_files})\n",
    "\n",
    "def date_calc(date):\n",
    "    date = date.replace('PD - ','').replace('.xlsx','')\n",
    "    return datetime.datetime.strptime(date,'%d%b%y').date()\n",
    "pd_file_details['date'] = pd_file_details.apply(lambda x: date_calc(x['loan_ref_no']),axis=1)\n",
    "\n",
    "pd_file_details = pd_file_details.sort_values('date', ascending = False)\n",
    "\n",
    "master_pd_file = pd.DataFrame()\n",
    "\n",
    "i=0\n",
    "\n",
    "while i < len(pd_file_details):\n",
    "    filename = pd_file_details.iloc[i,0]\n",
    "    date = pd_file_details.iloc[i,1]\n",
    "    file = pd.read_excel(mypath+\"/\"+filename)\n",
    "    file = file[['MOBILE_NO','PD_DATE']]\n",
    "    file = file.rename(columns={'PD_DATE': 'PD_DATE_'+str(date.strftime(\"%d%b%y\"))})\n",
    "    if len(master_pd_file) == 0:\n",
    "        master_pd_file = file\n",
    "    else:\n",
    "        master_pd_file = pd.merge(master_pd_file, file, on = 'MOBILE_NO', how = 'outer')\n",
    "    i+=1\n",
    "    \n",
    "new_columns = master_pd_file.columns.values\n",
    "\n",
    "i=1\n",
    "while i<len(new_columns):\n",
    "    new_columns[i] = 'PD_'+str(i)\n",
    "    i+=1\n",
    "master_pd_file.columns = new_columns\n",
    "\n",
    "def discrepancy(pd_1, pd_other):\n",
    "    if pd_other is None or pd_other.lower() == 'nan' or pd_other.lower() == 'nat' or pd_other.lower() == '(blank)':\n",
    "        return 0\n",
    "    else:\n",
    "        try:\n",
    "            pd_1 = datetime.datetime.strptime(str(pd_1)[:10], '%Y-%m-%d')\n",
    "            pd_other = datetime.datetime.strptime(str(pd_other)[:10], '%Y-%m-%d')\n",
    "            if pd_1.date() == pd_other.date():\n",
    "                return 0\n",
    "            else:\n",
    "                return 1\n",
    "        except:\n",
    "            return 1\n",
    "\n",
    "i=2\n",
    "while i < len(new_columns):\n",
    "    master_pd_file['discrepancy_with_'+str(i)] = master_pd_file.apply(lambda x: discrepancy(x['PD_1'], str(x['PD_'+str(i)])), axis=1)\n",
    "    if i==2:\n",
    "        master_pd_file['discrepancy'] = master_pd_file['discrepancy_with_'+str(i)]\n",
    "    else:\n",
    "         master_pd_file['discrepancy'] = master_pd_file['discrepancy'] + master_pd_file['discrepancy_with_'+str(i)] \n",
    "    i+=1\n",
    "\n",
    "master_pd_file[master_pd_file['discrepancy']>0]"
   ]
  },
  {
   "cell_type": "code",
   "execution_count": 9,
   "metadata": {},
   "outputs": [],
   "source": [
    "# master_pd_file"
   ]
  },
  {
   "cell_type": "markdown",
   "metadata": {},
   "source": [
    "### Check 3: PD Cases not reported on time (Point #2)"
   ]
  },
  {
   "cell_type": "code",
   "execution_count": 10,
   "metadata": {},
   "outputs": [
    {
     "data": {
      "text/html": [
       "<div>\n",
       "<style scoped>\n",
       "    .dataframe tbody tr th:only-of-type {\n",
       "        vertical-align: middle;\n",
       "    }\n",
       "\n",
       "    .dataframe tbody tr th {\n",
       "        vertical-align: top;\n",
       "    }\n",
       "\n",
       "    .dataframe thead th {\n",
       "        text-align: right;\n",
       "    }\n",
       "</style>\n",
       "<table border=\"1\" class=\"dataframe\">\n",
       "  <thead>\n",
       "    <tr style=\"text-align: right;\">\n",
       "      <th></th>\n",
       "      <th>MOBILE_NO</th>\n",
       "      <th>PD_1</th>\n",
       "      <th>PD_2</th>\n",
       "      <th>discrepancy_with_2</th>\n",
       "      <th>discrepancy</th>\n",
       "      <th>delay_in_reporting</th>\n",
       "    </tr>\n",
       "  </thead>\n",
       "  <tbody>\n",
       "  </tbody>\n",
       "</table>\n",
       "</div>"
      ],
      "text/plain": [
       "Empty DataFrame\n",
       "Columns: [MOBILE_NO, PD_1, PD_2, discrepancy_with_2, discrepancy, delay_in_reporting]\n",
       "Index: []"
      ]
     },
     "execution_count": 10,
     "metadata": {},
     "output_type": "execute_result"
    }
   ],
   "source": [
    "earlier_date = pd_file_details.iloc[1,1]\n",
    "\n",
    "def pd_reporting(number, e_date, cur_date, disc):\n",
    "    try:\n",
    "        cur_date = datetime.datetime.strptime(str(cur_date)[:10],'%Y-%m-%d')\n",
    "        if cur_date.date() < e_date and disc > 0:\n",
    "            return 1\n",
    "        else:\n",
    "            return 0\n",
    "    except:\n",
    "        try:\n",
    "            if cur_date is None or cur_date.lower() == 'nan' or cur_date.lower() == 'nat' or cur_date.lower() == '(blank)':\n",
    "                return 0\n",
    "        except:\n",
    "            print(\"Something wrong with \",number)\n",
    "\n",
    "master_pd_file['delay_in_reporting'] = master_pd_file.apply(lambda x: pd_reporting(x['MOBILE_NO'],earlier_date, str(x['PD_1']),x['discrepancy_with_2']),axis=1)\n",
    "master_pd_file[master_pd_file['delay_in_reporting']==1]"
   ]
  },
  {
   "cell_type": "markdown",
   "metadata": {},
   "source": [
    "## EMI Recon for all Cases"
   ]
  },
  {
   "cell_type": "code",
   "execution_count": 2,
   "metadata": {
    "scrolled": true
   },
   "outputs": [],
   "source": [
    "pd_cases = delivered_airtel_data\n",
    "pd_cases = pd_cases[['loan_ref_no','Loan Application Status','Device Delivered Date','Mobile_No','Airtel_Status']]\n",
    "\n",
    "CLS_EMI_data = CLS_EMI_data[['Loan App Reference Number','Status','Lender: Account Name','Total Emi Paid Amount',\n",
    "                             'Monthly Payment','First Monthly Collection Date','Delinquent Amount wrt MCD']]\n",
    "CLS_EMI_data = CLS_EMI_data.rename(columns={'Loan App Reference Number': 'loan_ref_no'})\n",
    "\n",
    "PD_CLS = pd.merge(pd_cases, CLS_EMI_data, on = 'loan_ref_no', how = 'left')\n",
    "\n",
    "def date_calc_2(date):\n",
    "    try:\n",
    "        return datetime.datetime.strptime(date[:10],'%d/%m/%Y').date()\n",
    "    except:\n",
    "        try:\n",
    "            return datetime.datetime.strptime(date[:10],'%Y-%m-%d').date()\n",
    "        except:\n",
    "            if date.lower() == 'nan' or date.lower() == 'nat':\n",
    "                return 0\n",
    "            else:\n",
    "                return date \n",
    "\n",
    "filename = pd_file_details.iloc[0,0]\n",
    "latest_pd = pd.read_excel(mypath+\"/\"+filename)\n",
    "latest_pd = latest_pd[['MOBILE_NO', 'PD_DATE']]\n",
    "latest_pd = latest_pd.rename(columns={'MOBILE_NO': 'Mobile_No'})\n",
    "PD_CLS = pd.merge(PD_CLS, latest_pd, on = 'Mobile_No', how = 'left')\n",
    "PD_CLS['Device Delivered Date'] = PD_CLS.apply(lambda x: date_calc_2(str(x['Device Delivered Date'])),axis=1)\n",
    "PD_CLS['First Monthly Collection Date'] = PD_CLS.apply(lambda x: date_calc_2(str(x['First Monthly Collection Date'])),axis=1)\n",
    "PD_CLS['Actual_PD_DATE'] = PD_CLS['PD_DATE']\n",
    "PD_CLS['PD_DATE'] = PD_CLS['PD_DATE'].fillna(emi_analysis_date)\n",
    "PD_CLS['PD_DATE'] = PD_CLS.apply(lambda x: date_calc_2(str(x['PD_DATE'])),axis=1)\n",
    "PD_CLS = PD_CLS.fillna(0)\n",
    "PD_CLS['EMIs_paid'] = PD_CLS['Total Emi Paid Amount'] / PD_CLS['Monthly Payment']\n",
    "\n",
    "import dateutil.relativedelta as relativedelta\n",
    "\n",
    "def first_emi(del_date):\n",
    "    day_of_month = int(del_date.strftime(\"%d\"))\n",
    "    if day_of_month < 21:\n",
    "        first_emi_date = del_date + relativedelta.relativedelta(months=1)\n",
    "    else:\n",
    "        first_emi_date = del_date + relativedelta.relativedelta(months=2)\n",
    "    first_emi_date = first_emi_date.replace(day=5)\n",
    "    return first_emi_date\n",
    "\n",
    "PD_CLS['First_EMI_date_expected'] = PD_CLS.apply(lambda x: first_emi(x['Device Delivered Date']),axis=1)\n",
    "\n",
    "def last_emi(pd_date):\n",
    "    try:\n",
    "        day_of_month = int(pd_date.strftime(\"%d\"))\n",
    "        if day_of_month < 5:\n",
    "            pd_date_2 = pd_date - relativedelta.relativedelta(months=1)\n",
    "        else:\n",
    "            pd_date_2 = pd_date\n",
    "        pd_date_2 = pd_date_2.replace(day=5)\n",
    "        return pd_date_2\n",
    "    except:\n",
    "        return pd_date\n",
    "    \n",
    "PD_CLS['Last_EMI_date_expected'] = PD_CLS.apply(lambda x: last_emi(x['PD_DATE']),axis=1)\n",
    "\n",
    "def expected_emi(loan, date_1, date_last):\n",
    "    try:\n",
    "        expected_emi = max((date_last.year - date_1.year) * 12 + date_last.month - date_1.month + 1,0)\n",
    "    except Exception as e:\n",
    "        print(loan, e)\n",
    "        expected_emi = \"Cannot be determined\"\n",
    "    return expected_emi\n",
    "\n",
    "PD_CLS['Expected_EMI'] = PD_CLS.apply(lambda x: expected_emi(x['loan_ref_no'],x['First_EMI_date_expected'],x['Last_EMI_date_expected']),axis=1)\n",
    "\n",
    "def diff_emi(exp, actual):\n",
    "    try:\n",
    "        return exp-actual\n",
    "    except:\n",
    "        return 'NA'\n",
    "\n",
    "PD_CLS = PD_CLS.fillna(0)\n",
    "    \n",
    "PD_CLS['Pending EMIs'] = PD_CLS.apply(lambda x: diff_emi(x['Expected_EMI'], x['EMIs_paid']),axis=1)\n",
    "\n",
    "PD_CLS['Pending Amount'] = PD_CLS.apply(lambda x: x['Pending EMIs'] * x['Monthly Payment'] if x['Pending EMIs'] != \"NA\" else \"NA\", axis=1)"
   ]
  },
  {
   "cell_type": "markdown",
   "metadata": {},
   "source": [
    "#### Recon Sheet Output"
   ]
  },
  {
   "cell_type": "code",
   "execution_count": 12,
   "metadata": {},
   "outputs": [],
   "source": [
    "ALL_CLS_closed = PD_CLS[PD_CLS['Status'] == 'Closed - Obligations met'].drop(['Pending Amount','Pending EMIs','Expected_EMI','Last_EMI_date_expected','First_EMI_date_expected','EMIs_paid','PD_DATE'],axis=1)\n",
    "ALL_CLS_open = PD_CLS[PD_CLS['Status'] != 'Closed - Obligations met'].drop(['PD_DATE'],axis=1)\n",
    "\n",
    "if not os.path.exists(report_folder+\"/\"+curr_mon):\n",
    "    os.makedirs(report_folder+\"/\"+curr_mon)\n",
    "writer = pd.ExcelWriter(report_folder+\"/\"+curr_mon + \"/PD EMI Recon - All - \"+curr_date+\".xlsx\")\n",
    "master_pd_file.to_excel(writer,'PD File Issues',index = False)\n",
    "missing_data.to_excel(writer,'Missing Data',index=False)\n",
    "ALL_CLS_open.to_excel(writer,'Active Loans',index = False)\n",
    "ALL_CLS_closed.to_excel(writer,'Pre-Closed Loans',index = False)\n",
    "writer.save()"
   ]
  },
  {
   "cell_type": "code",
   "execution_count": 26,
   "metadata": {},
   "outputs": [
    {
     "data": {
      "text/plain": [
       "dtype('O')"
      ]
     },
     "execution_count": 26,
     "metadata": {},
     "output_type": "execute_result"
    }
   ],
   "source": [
    "PD_CLS['Device Delivered Date'].dtype"
   ]
  },
  {
   "cell_type": "code",
   "execution_count": null,
   "metadata": {},
   "outputs": [],
   "source": []
  }
 ],
 "metadata": {
  "kernelspec": {
   "display_name": "Python 3",
   "language": "python",
   "name": "python3"
  },
  "language_info": {
   "codemirror_mode": {
    "name": "ipython",
    "version": 3
   },
   "file_extension": ".py",
   "mimetype": "text/x-python",
   "name": "python",
   "nbconvert_exporter": "python",
   "pygments_lexer": "ipython3",
   "version": "3.7.2"
  }
 },
 "nbformat": 4,
 "nbformat_minor": 2
}
