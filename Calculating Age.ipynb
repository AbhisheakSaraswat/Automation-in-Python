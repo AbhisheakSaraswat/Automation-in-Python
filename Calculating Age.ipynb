{
 "cells": [
  {
   "cell_type": "code",
   "execution_count": 28,
   "metadata": {},
   "outputs": [
    {
     "name": "stdout",
     "output_type": "stream",
     "text": [
      "Enter Date of Birth (DD-MM-YYYY): 10-02-1988\n",
      "31 Years 3 Months 5 Days\n"
     ]
    }
   ],
   "source": [
    "import datetime\n",
    "date_of_birth = datetime.datetime.strptime(input(\"Enter Date of Birth (DD-MM-YYYY): \"), '%d-%m-%Y').date()\n",
    "current_date = datetime.datetime.today().date()\n",
    "temp_date = datetime.datetime(current_date.year,date_of_birth.month,date_of_birth.day).date()\n",
    "y = current_date.year - date_of_birth.year + int((temp_date > current_date))\n",
    "m = current_date.month - date_of_birth.month - 12*int((temp_date>current_date))\n",
    "d = current_date.day - date_of_birth.day\n",
    "if d < 0:\n",
    "    m = m -1\n",
    "    d = datetime.datetime(current_date.year, current_date.month + 1, 0).days + d +1\n",
    "\n",
    "print(f\"{y} Years {m} Months {d} Days\")"
   ]
  },
  {
   "cell_type": "code",
   "execution_count": 7,
   "metadata": {},
   "outputs": [
    {
     "name": "stdout",
     "output_type": "stream",
     "text": [
      "Enter Date of Birth (YYYY-MM-DD) : 1988-02-10\n"
     ]
    },
    {
     "data": {
      "text/plain": [
       "'11417 Days'"
      ]
     },
     "execution_count": 7,
     "metadata": {},
     "output_type": "execute_result"
    }
   ],
   "source": [
    "from datetime import datetime\n",
    "\n",
    "def days_between():\n",
    "    d1 = datetime.strptime(input(\"Enter Date of Birth (YYYY-MM-DD) : \"), \"%Y-%m-%d\")\n",
    "    d2 = datetime.now().today()\n",
    "    return str(abs((d2 - d1).days)) + \" Days\"\n",
    "\n",
    "days_between()"
   ]
  },
  {
   "cell_type": "code",
   "execution_count": 1,
   "metadata": {},
   "outputs": [
    {
     "name": "stdout",
     "output_type": "stream",
     "text": [
      "Your date of birth (dd mm yyyy)\n",
      "--->10 02 1988\n",
      "31\n"
     ]
    }
   ],
   "source": [
    "from datetime import datetime, date\n",
    "\n",
    "print(\"Your date of birth (dd mm yyyy)\")\n",
    "date_of_birth = datetime.strptime(input(\"--->\"), \"%d %m %Y\")\n",
    "\n",
    "def calculate_age(born):\n",
    "    today = date.today()\n",
    "    return today.year - born.year - ((today.month, today.day) < (born.month, born.day))\n",
    "\n",
    "age = calculate_age(date_of_birth)\n",
    "\n",
    "print(age)"
   ]
  },
  {
   "cell_type": "code",
   "execution_count": 3,
   "metadata": {},
   "outputs": [
    {
     "name": "stdout",
     "output_type": "stream",
     "text": [
      "Enter your date of birth (yyyy mm dd): 1988 10 02\n",
      "30\n"
     ]
    }
   ],
   "source": [
    "from datetime import date\n",
    "\n",
    "def ask_for_date(name):\n",
    "    data = input('Enter ' + name + ' (yyyy mm dd): ').split(' ')\n",
    "    try:\n",
    "        return date(int(data[0]), int(data[1]), int(data[2]))\n",
    "    except Exception as e:\n",
    "        print(e)\n",
    "        print('Invalid input. Follow the given format')\n",
    "        ask_for_date(name)\n",
    "\n",
    "\n",
    "def calculate_age():\n",
    "    born = ask_for_date('your date of birth')\n",
    "    today = date.today()\n",
    "    extra_year = 1 if ((today.month, today.day) < (born.month, born.day)) else 0\n",
    "    return today.year - born.year - extra_year\n",
    "\n",
    "print(calculate_age())"
   ]
  },
  {
   "cell_type": "code",
   "execution_count": 6,
   "metadata": {},
   "outputs": [
    {
     "name": "stdout",
     "output_type": "stream",
     "text": [
      "enter age (dd-mm-yyyy) : 10-02-1988\n"
     ]
    },
    {
     "data": {
      "text/plain": [
       "31"
      ]
     },
     "execution_count": 6,
     "metadata": {},
     "output_type": "execute_result"
    }
   ],
   "source": [
    "import datetime\n",
    "\n",
    "import dateutil\n",
    "\n",
    "def birthday(date):\n",
    "    # Get the current date\n",
    "    now = datetime.datetime.utcnow()\n",
    "    now = now.date()\n",
    "\n",
    "    # Get the difference between the current date and the birthday\n",
    "    age = dateutil.relativedelta.relativedelta(now, date)\n",
    "    age = age.years\n",
    "\n",
    "    return age\n",
    "\n",
    "birthday(datetime.datetime.strptime(input(\"enter age (dd-mm-yyyy) : \"), '%d-%m-%Y'))"
   ]
  },
  {
   "cell_type": "code",
   "execution_count": null,
   "metadata": {},
   "outputs": [],
   "source": []
  }
 ],
 "metadata": {
  "kernelspec": {
   "display_name": "Python 3",
   "language": "python",
   "name": "python3"
  },
  "language_info": {
   "codemirror_mode": {
    "name": "ipython",
    "version": 3
   },
   "file_extension": ".py",
   "mimetype": "text/x-python",
   "name": "python",
   "nbconvert_exporter": "python",
   "pygments_lexer": "ipython3",
   "version": "3.7.2"
  }
 },
 "nbformat": 4,
 "nbformat_minor": 2
}
