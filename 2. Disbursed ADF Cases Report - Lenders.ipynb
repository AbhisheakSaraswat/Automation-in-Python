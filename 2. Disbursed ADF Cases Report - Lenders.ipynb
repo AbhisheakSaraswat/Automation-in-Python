{
 "cells": [
  {
   "cell_type": "markdown",
   "metadata": {},
   "source": [
    "#### Import Libraries"
   ]
  },
  {
   "cell_type": "code",
   "execution_count": 12,
   "metadata": {},
   "outputs": [],
   "source": [
    "# Import required libraries for execution\n",
    "import pandas as pd\n",
    "import datetime\n",
    "import os\n",
    "import numpy as np\n",
    "\n",
    "# Get username of the windows Account to be used in the folder paths\n",
    "user = os.getenv('username')"
   ]
  },
  {
   "cell_type": "markdown",
   "metadata": {},
   "source": [
    "#### Define Report Folders and Variables"
   ]
  },
  {
   "cell_type": "code",
   "execution_count": 13,
   "metadata": {},
   "outputs": [],
   "source": [
    "# Define the folders for input files and final reports\n",
    "\n",
    "main_folder = \"C:/Users/\"+user+\"/Desktop/Airtel/Source Files/\"\n",
    "report_folder = \"C:/Users/\"+user+\"/Desktop/Airtel/Reports/Lender Report/\"\n",
    "\n",
    "# Dates for file name and invoices to be read\n",
    "\n",
    "curr_mon = datetime.datetime.today().strftime('%b%y') #'01Feb18'\n",
    "curr_date = datetime.datetime.today().strftime('%d%b%y') #'01Feb18'\n",
    "today = datetime.datetime.now().date()\n",
    "prev_month_last = today.replace(day=1)\n",
    "lastmonth = prev_month_last - datetime.timedelta(days=1) #datetime.datetime(2018,12,31).date()\n",
    "\n",
    "# Create monthly folders if not present already\n",
    "\n",
    "if not os.path.exists(report_folder+\"/\"+curr_mon):\n",
    "    os.makedirs(report_folder+\"/\"+curr_mon)\n",
    "    \n",
    "td_file_name = 'TD - 29Jan19'\n",
    "pd_file_name = 'PD - 29Jan19'"
   ]
  },
  {
   "cell_type": "markdown",
   "metadata": {},
   "source": [
    "#### Import Data Files"
   ]
  },
  {
   "cell_type": "code",
   "execution_count": 14,
   "metadata": {},
   "outputs": [
    {
     "name": "stdout",
     "output_type": "stream",
     "text": [
      "Please enter the name of the PD sheet (Airtel changed it again, why am I not suprised?): Billing Details\n",
      "Data Reading Complete!\n"
     ]
    }
   ],
   "source": [
    "# Excel File with Active/TD/PD details\n",
    "\n",
    "xls = pd.ExcelFile(main_folder + td_file_name + '.xlsx')\n",
    "\n",
    "try:\n",
    "    td_data = pd.read_excel(xls, 'Details')\n",
    "except:\n",
    "    td_name = input(\"Please enter the name of the TD sheet (Airtel changed it again, why am I not suprised?): \")\n",
    "    td_data = pd.read_excel(xls, td_name)\n",
    "\n",
    "xls = pd.ExcelFile(main_folder + pd_file_name + '.xlsx')\n",
    "\n",
    "try:\n",
    "    pd_details = pd.read_excel(xls, 'PD Base')\n",
    "except:\n",
    "    pd_name = input(\"Please enter the name of the PD sheet (Airtel changed it again, why am I not suprised?): \")\n",
    "    pd_details = pd.read_excel(xls, pd_name)\n",
    "\n",
    "try:\n",
    "    pd_data = pd.read_excel(xls, 'Billing Details')\n",
    "except:\n",
    "    pd_name = input(\"Please enter the name of the PD sheet (Airtel changed it again, why am I not suprised?): \")\n",
    "    pd_data = pd.read_excel(xls, pd_name)\n",
    "\n",
    "master_data = pd.read_csv(main_folder + 'master_anuj.csv')\n",
    "borr_mobile = pd.read_csv(main_folder + 'borr_mobile.csv')\n",
    "cibil_score = pd.read_csv(main_folder + 'adf_cibil.csv')\n",
    "phone_models = pd.read_csv(main_folder + 'phone_models.csv')\n",
    "clix_dob = pd.read_excel(main_folder + 'clix_dob_master.xlsx')\n",
    "fed_map = pd.read_csv(main_folder + 'Federal ID Mapping.csv')[['Loan App Reference Number','Lender Loan_Ref_no']]\n",
    "\n",
    "print(\"Data Reading Complete!\")"
   ]
  },
  {
   "cell_type": "markdown",
   "metadata": {},
   "source": [
    "#### Data Extraction Steps"
   ]
  },
  {
   "cell_type": "code",
   "execution_count": 15,
   "metadata": {},
   "outputs": [
    {
     "name": "stdout",
     "output_type": "stream",
     "text": [
      "Step 1 completed successfully\n"
     ]
    }
   ],
   "source": [
    "td_data['td_flag'] = 1\n",
    "pd_data['pd_flag'] = 1\n",
    "\n",
    "td_data = td_data.rename(columns={'Loan ID':'Loan App Reference Number','Plan Type':'Type'})\n",
    "\n",
    "td_flag = td_data[['Loan App Reference Number','Type','td_flag']]\n",
    "\n",
    "pd_data = pd_data.rename(columns={'Loan ID ':'Loan App Reference Number','PLAN TYPE':'Type'})\n",
    "\n",
    "pd_flag = pd_data[['Loan App Reference Number','Type','pd_flag']]    \n",
    "\n",
    "td_pd = td_flag.append(pd_flag).fillna(0).drop_duplicates()\n",
    "\n",
    "disbursed_data = master_data[master_data['Loan Application Status'] == 'Disbursed']\n",
    "\n",
    "borr_mobile = borr_mobile[borr_mobile['Loan Application Status'] == 'Disbursed']\n",
    "borr_mobile_2 = borr_mobile[['Registered Mobile','MSISDN','Loan Reference Number']]\n",
    "borr_mobile_2 = borr_mobile_2.rename(columns = {'Loan Reference Number':'Loan App Reference Number'})\n",
    "\n",
    "disbursed_data = pd.merge(disbursed_data, borr_mobile_2, on = 'Loan App Reference Number', how = 'left')\n",
    "disbursed_data = pd.merge(disbursed_data, td_pd, on = 'Loan App Reference Number', how = 'left')\n",
    "\n",
    "disbursed_data = disbursed_data[['Loan App Reference Number', 'Registered Mobile', 'MSISDN', 'Loan Application Status',\n",
    "       'Priority Label', 'Type', 'Borrower: Date of Birth', 'Application Date',\n",
    "       'Down payment Date', 'Device Delivered Date', 'Approval Date', 'Lender: Account Name',\n",
    "       'Is Employee', 'pd_flag', 'td_flag']].fillna(0)\n",
    "\n",
    "msisdn_lender = disbursed_data[['Loan App Reference Number','Lender: Account Name']]\n",
    "\n",
    "pd_data = pd.merge(pd_data, msisdn_lender, on = 'Loan App Reference Number', how = 'left')\n",
    "pd_data = pd_data.drop(['pd_flag'], axis=1)\n",
    "td_data = pd.merge(td_data, msisdn_lender, on = 'Loan App Reference Number', how = 'left')\n",
    "td_data = td_data.drop(['td_flag'], axis=1)\n",
    "\n",
    "print(\"Step 1 completed successfully\")"
   ]
  },
  {
   "cell_type": "code",
   "execution_count": 16,
   "metadata": {},
   "outputs": [
    {
     "name": "stdout",
     "output_type": "stream",
     "text": [
      "Step 2 completed successfully\n"
     ]
    }
   ],
   "source": [
    "cibil_score = cibil_score.rename(columns = {'Raw Score':'CIBIL Score'})\n",
    "\n",
    "disbursed_data = pd.merge(disbursed_data, cibil_score, on = 'Loan App Reference Number', how = 'left')\n",
    "disbursed_data = pd.merge(disbursed_data, phone_models, on = 'Loan App Reference Number', how = 'left')\n",
    "disbursed_data = disbursed_data.fillna('NA')\n",
    "disbursed_data['missing_flag'] = disbursed_data.apply(lambda x: 1 if (max(x['Is Employee'],x['pd_flag'],x['td_flag'])==0) else 0,axis=1)\n",
    "\n",
    "\n",
    "pd_data = pd.merge(pd_data, cibil_score, on = 'Loan App Reference Number', how = 'left')\n",
    "pd_data = pd.merge(pd_data, phone_models, on = 'Loan App Reference Number', how = 'left')\n",
    "pd_data = pd_data.fillna('NA')\n",
    "pd_data = pd_data[['Loan App Reference Number','MOBILE_NO', 'REASON_CODE', 'PD_DATE', 'ALTERNATE_CONTACT_NO',\n",
    "    'BILL_PLAN_NAME', 'BILL_PLAN_ACTIVE_DT', 'BILL_PLAN_INACTIVE_DT',\n",
    "    'INVOICE_NO', 'INVOICE_RESETS', 'INVOICE_STATEMENT_DATE', 'DUE_DATE',\n",
    "    'NEW_CHARGES', 'PAID_AMOUNT', 'ADJUSTMENT', 'BALANCE_DUE',\n",
    "    'LAST_PAY_DATE', 'ACCOUNT_NUMBER', 'Type', 'Lender: Account Name',\n",
    "    'CIBIL Score', 'Borrower: Account Name',\n",
    "    'Manufacturer', 'Model']]\n",
    "\n",
    "\n",
    "td_data = pd.merge(td_data, cibil_score, on = 'Loan App Reference Number', how = 'left')\n",
    "td_data = pd.merge(td_data, phone_models, on = 'Loan App Reference Number', how = 'left')\n",
    "td_data = td_data.fillna('NA')\n",
    "td_data = td_data[['Loan App Reference Number', 'MOBILE_NO', 'Type', 'BILL_PLAN_NAME', 'PLAN_ACTIVE_DT', 'STATUS', 'INVOICE_NO', 'INVOICE_RESETS', 'INVOICE_STATEMENT_DATE', 'DUE_DATE', 'NEW_CHARGES', 'PAID_AMOUNT', 'ADJUSTMENT', 'BALANCE_DUE', 'LAST_PAY_DATE', 'ACCOUNT_NUMBER', 'Lender: Account Name', 'CIBIL Score', 'Borrower: Account Name', 'Manufacturer', 'Model']]\n",
    "\n",
    "print(\"Step 2 completed successfully\")"
   ]
  },
  {
   "cell_type": "code",
   "execution_count": 17,
   "metadata": {},
   "outputs": [
    {
     "name": "stdout",
     "output_type": "stream",
     "text": [
      "Step 3 completed successfully\n"
     ]
    }
   ],
   "source": [
    "def date_convert(date):\n",
    "    try:\n",
    "        new_date = datetime.datetime.strptime(date,'%d/%m/%Y').date()\n",
    "    except:\n",
    "        new_date = date\n",
    "    return new_date\n",
    "\n",
    "td_data['INVOICE_STATEMENT_DATE'] = td_data.apply(lambda x: date_convert(x['INVOICE_STATEMENT_DATE']),axis=1)\n",
    "td_data['LAST_PAY_DATE'] = td_data.apply(lambda x: date_convert(x['LAST_PAY_DATE']),axis=1)\n",
    "td_data['DUE_DATE'] = td_data.apply(lambda x: date_convert(x['DUE_DATE']),axis=1)\n",
    "\n",
    "pd_data['PD_DATE'] = pd_data.apply(lambda x: date_convert(x['PD_DATE']),axis=1)\n",
    "pd_data['BILL_PLAN_ACTIVE_DT'] = pd_data.apply(lambda x: date_convert(x['BILL_PLAN_ACTIVE_DT']),axis=1)\n",
    "pd_data['BILL_PLAN_INACTIVE_DT'] = pd_data.apply(lambda x: date_convert(x['BILL_PLAN_INACTIVE_DT']),axis=1)\n",
    "pd_data['INVOICE_STATEMENT_DATE'] = pd_data.apply(lambda x: date_convert(x['INVOICE_STATEMENT_DATE']),axis=1)\n",
    "pd_data['DUE_DATE'] = pd_data.apply(lambda x: date_convert(x['DUE_DATE']),axis=1)\n",
    "pd_data['LAST_PAY_DATE'] = pd_data.apply(lambda x: date_convert(x['LAST_PAY_DATE']),axis=1)\n",
    "\n",
    "disbursed_data['Application Date'] = disbursed_data.apply(lambda x: date_convert(x['Application Date']),axis=1)\n",
    "disbursed_data['Down payment Date'] = disbursed_data.apply(lambda x: date_convert(x['Down payment Date']),axis=1)\n",
    "disbursed_data['Device Delivered Date'] = disbursed_data.apply(lambda x: date_convert(x['Device Delivered Date']),axis=1)\n",
    "disbursed_data['Approval Date'] = disbursed_data.apply(lambda x: date_convert(x['Approval Date']),axis=1)\n",
    "\n",
    "print(\"Step 3 completed successfully\")"
   ]
  },
  {
   "cell_type": "code",
   "execution_count": 18,
   "metadata": {},
   "outputs": [
    {
     "name": "stdout",
     "output_type": "stream",
     "text": [
      "Step 4 completed successfully: Files are Ready!!\n"
     ]
    }
   ],
   "source": [
    "writer = pd.ExcelWriter(report_folder+\"/\"+curr_mon+\"/master_disbursed_data_\"+curr_date+\".xlsx\")\n",
    "disbursed_data.to_excel(writer,'Master Data',index = False)\n",
    "td_data.to_excel(writer,'ActiveTD Data',index = False)\n",
    "pd_data.to_excel(writer,'PD Data',index = False)\n",
    "writer.save()\n",
    "\n",
    "disbursed_data_clix = disbursed_data[disbursed_data['Lender: Account Name'] == 'Clix Capital']\n",
    "disbursed_data_clix = pd.merge(disbursed_data_clix, clix_dob, on = 'Loan App Reference Number', how = 'left')\n",
    "disbursed_data_clix['Borrower: Date of Birth'] = disbursed_data_clix['DOB2']\n",
    "disbursed_data_clix = disbursed_data_clix.drop(['DOB2'], axis=1)\n",
    "\n",
    "td_data_clix = td_data[td_data['Lender: Account Name'] == 'Clix Capital']\n",
    "pd_data_clix = pd_data[pd_data['Lender: Account Name'] == 'Clix Capital']\n",
    "\n",
    "writer = pd.ExcelWriter(report_folder+\"/\"+curr_mon+\"/clix_disbursed_data_\"+curr_date+\".xlsx\")\n",
    "disbursed_data_clix.to_excel(writer,'Master Data',index = False)\n",
    "td_data_clix.to_excel(writer,'ActiveTD Data',index = False)\n",
    "pd_data_clix.to_excel(writer,'PD Data',index = False)\n",
    "writer.save()\n",
    "\n",
    "disbursed_data_fed = disbursed_data[disbursed_data['Lender: Account Name'] == 'Federal Bank']\n",
    "disbursed_data_fed = pd.merge(disbursed_data_fed, fed_map, on = 'Loan App Reference Number', how = 'left')\n",
    "td_data_fed = td_data[td_data['Lender: Account Name'] == 'Federal Bank']\n",
    "td_data_fed = pd.merge(td_data_fed, fed_map, on = 'Loan App Reference Number', how = 'left')\n",
    "pd_data_fed = pd_data[pd_data['Lender: Account Name'] == 'Federal Bank']\n",
    "pd_data_fed = pd.merge(pd_data_fed, fed_map, on = 'Loan App Reference Number', how = 'left')\n",
    "\n",
    "writer = pd.ExcelWriter(report_folder+\"/\"+curr_mon+\"/federal_disbursed_data_\"+curr_date+\".xlsx\")\n",
    "disbursed_data_fed.to_excel(writer,'Master Data',index = False)\n",
    "td_data_fed.to_excel(writer,'ActiveTD Data',index = False)\n",
    "pd_data_fed.to_excel(writer,'PD Data',index = False)\n",
    "writer.save()\n",
    "\n",
    "print(\"Step 4 completed successfully: Files are Ready!!\")"
   ]
  },
  {
   "cell_type": "code",
   "execution_count": null,
   "metadata": {},
   "outputs": [],
   "source": []
  }
 ],
 "metadata": {
  "kernelspec": {
   "display_name": "Python 3",
   "language": "python",
   "name": "python3"
  },
  "language_info": {
   "codemirror_mode": {
    "name": "ipython",
    "version": 3
   },
   "file_extension": ".py",
   "mimetype": "text/x-python",
   "name": "python",
   "nbconvert_exporter": "python",
   "pygments_lexer": "ipython3",
   "version": "3.7.2"
  }
 },
 "nbformat": 4,
 "nbformat_minor": 2
}
