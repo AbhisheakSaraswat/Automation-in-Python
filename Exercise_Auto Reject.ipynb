{
 "cells": [
  {
   "cell_type": "code",
   "execution_count": 2,
   "metadata": {},
   "outputs": [],
   "source": [
    "import pandas as pd\n",
    "import json"
   ]
  },
  {
   "cell_type": "code",
   "execution_count": 3,
   "metadata": {},
   "outputs": [],
   "source": [
    "df = pd.read_excel(\"Book1.xlsx\", sheet_name=\"Sheet1\")\n",
    "keyrank = pd.read_excel(\"Book1_key_rank.xlsx\", sheet_name=\"Sheet1\")\n",
    "keyrank.set_index('key', inplace=True)"
   ]
  },
  {
   "cell_type": "code",
   "execution_count": 4,
   "metadata": {},
   "outputs": [],
   "source": [
    "def extract_true(cut):\n",
    "    try:\n",
    "        list_of_true_key = {}\n",
    "        j = json.loads(cut)\n",
    "\n",
    "        for item in j:\n",
    "            for key, value in item.items():\n",
    "                    if value == True:\n",
    "                        list_of_true_key.update({key: keyrank.loc[key]['rank']})\n",
    "                    else:\n",
    "                        try:\n",
    "                            for item in j:\n",
    "                                for key, value in item.items():\n",
    "                                    for k, v in value.items():\n",
    "                                        if v == True:\n",
    "                                            list_of_true_key.update({k: keyrank.loc[k]['rank']})\n",
    "                                        else:\n",
    "                                            pass                            \n",
    "                        except:\n",
    "                            pass\n",
    "    except:\n",
    "        try:\n",
    "            for key, value in j.items():\n",
    "                    if value == True:\n",
    "                        list_of_true_key.update({key: keyrank.loc[key]['rank']})\n",
    "                    else:\n",
    "                        try:\n",
    "                            for key, value in j.items():\n",
    "                                for k, v in value.items():\n",
    "                                    if v == True:\n",
    "                                        list_of_true_key.update({k: keyrank.loc[k]['rank']})\n",
    "                                    else:\n",
    "                                        pass                            \n",
    "                        except:\n",
    "                            pass\n",
    "        except:\n",
    "            pass\n",
    "                                    \n",
    "    return list_of_true_key"
   ]
  },
  {
   "cell_type": "code",
   "execution_count": 5,
   "metadata": {},
   "outputs": [],
   "source": [
    "def rank_name(rank_dict):\n",
    "    for key, value in rank_dict.items():\n",
    "        if value == min(rank_dict.values()):\n",
    "            return key\n"
   ]
  },
  {
   "cell_type": "code",
   "execution_count": 6,
   "metadata": {},
   "outputs": [],
   "source": [
    "df['rank_dict'] = df.apply(lambda x: extract_true(x['rejection_reasons']), axis=1)"
   ]
  },
  {
   "cell_type": "code",
   "execution_count": 7,
   "metadata": {},
   "outputs": [],
   "source": [
    "def rank_name(rank_dict):\n",
    "    for key, value in rank_dict.items():\n",
    "        if value == min(rank_dict.values()):\n",
    "            return key\n",
    "\n",
    "def ranking(rank_dict):\n",
    "    for key, value in rank_dict.items():\n",
    "        if value == min(rank_dict.values()):\n",
    "            return value"
   ]
  },
  {
   "cell_type": "code",
   "execution_count": 8,
   "metadata": {},
   "outputs": [],
   "source": [
    "df['rank_priority'] = df.apply(lambda x: rank_name(x['rank_dict']), axis=1)"
   ]
  },
  {
   "cell_type": "code",
   "execution_count": 9,
   "metadata": {},
   "outputs": [],
   "source": [
    "df['ranking'] = df.apply(lambda x: ranking(x['rank_dict']), axis=1)"
   ]
  },
  {
   "cell_type": "code",
   "execution_count": 10,
   "metadata": {},
   "outputs": [
    {
     "data": {
      "text/plain": [
       "(13528, 5)"
      ]
     },
     "execution_count": 10,
     "metadata": {},
     "output_type": "execute_result"
    }
   ],
   "source": [
    "df.shape"
   ]
  },
  {
   "cell_type": "code",
   "execution_count": null,
   "metadata": {},
   "outputs": [],
   "source": []
  }
 ],
 "metadata": {
  "kernelspec": {
   "display_name": "Python 3",
   "language": "python",
   "name": "python3"
  },
  "language_info": {
   "codemirror_mode": {
    "name": "ipython",
    "version": 3
   },
   "file_extension": ".py",
   "mimetype": "text/x-python",
   "name": "python",
   "nbconvert_exporter": "python",
   "pygments_lexer": "ipython3",
   "version": "3.7.2"
  }
 },
 "nbformat": 4,
 "nbformat_minor": 2
}
