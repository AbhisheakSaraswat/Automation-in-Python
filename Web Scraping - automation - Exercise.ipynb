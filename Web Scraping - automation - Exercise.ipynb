{
 "cells": [
  {
   "cell_type": "code",
   "execution_count": 5,
   "metadata": {},
   "outputs": [],
   "source": [
    "import webbrowser\n",
    "import requests\n",
    "from bs4 import BeautifulSoup\n",
    "from selenium import webdriver"
   ]
  },
  {
   "cell_type": "code",
   "execution_count": 6,
   "metadata": {},
   "outputs": [],
   "source": [
    "url = 'https://mywebsite.com/accounts/login/'\n",
    "\n",
    "# create a new Chrome session\n",
    "driver = webdriver.Chrome()\n",
    "driver.implicitly_wait(10)\n",
    "driver.get(url)"
   ]
  },
  {
   "cell_type": "code",
   "execution_count": 7,
   "metadata": {},
   "outputs": [],
   "source": [
    "driver.find_element_by_id('username').send_keys('ramkrishna')\n",
    "driver.find_element_by_id('password').send_keys('mypassword')"
   ]
  },
  {
   "cell_type": "code",
   "execution_count": 8,
   "metadata": {},
   "outputs": [],
   "source": [
    "driver.find_element_by_id('login').click()"
   ]
  },
  {
   "cell_type": "code",
   "execution_count": 5,
   "metadata": {},
   "outputs": [],
   "source": [
    "from selenium.webdriver.support import ui\n",
    "# Click on Drop Down Menu\n",
    "driver.find_element_by_id('switch-button').click()"
   ]
  },
  {
   "cell_type": "code",
   "execution_count": 6,
   "metadata": {},
   "outputs": [
    {
     "data": {
      "text/plain": [
       "['Abhisheak Saraswat', 'Brian Liljenquist, PLLC', 'Naila Goldenberg, MD']"
      ]
     },
     "execution_count": 6,
     "metadata": {},
     "output_type": "execute_result"
    }
   ],
   "source": [
    "# Create list of drop down item\n",
    "drop_down_item = driver.find_element_by_id('updateDoctor').text.split(\"\\n\")\n",
    "drop_down_item"
   ]
  },
  {
   "cell_type": "code",
   "execution_count": 10,
   "metadata": {},
   "outputs": [],
   "source": [
    "# Click on drop down item\n",
    "for i in range(2, len(drop_down_item)):\n",
    "    # Click on Drop Down Menu\n",
    "    driver.find_element_by_id('switch-button').click()\n",
    "    driver.find_element_by_xpath(\"//*[@id='updateDoctor']/li[\" + str(i) + \"]/a\").click()\n",
    "    # Click on Drop Down Menu\n",
    "    driver.find_element_by_id('switch-button').click()\n",
    "    # Click on Practice Group\n",
    "    driver.find_element_by_xpath(\"//*[@id='updateDoctor']/li[\"+ str(len(drop_down_item)) +\"]/a\").click()\n",
    "    # Click on Billing->Live Claims Feed\n",
    "    driver.get(\"https://practicegroup.drchrono.com/billing/live_claims_feed\")\n",
    "    # Set date and Click on Update Filter\n",
    "    from_date = '02/01/2019'\n",
    "    to_date = '02/28/2019'\n",
    "    driver.find_element_by_css_selector('input[ng-model=\"start_date\"]').clear()\n",
    "    driver.find_element_by_css_selector('input[ng-model=\"start_date\"]').send_keys(from_date)\n",
    "    driver.find_element_by_css_selector('input[ng-model=\"end_date\"]').clear()\n",
    "    driver.find_element_by_css_selector('input[ng-model=\"end_date\"]').send_keys(to_date)\n",
    "    driver.find_element_by_xpath(\"//*[@id='ui-datepicker-div']/div[2]/button[2]\").click()\n",
    "    driver.find_element_by_xpath(\"//*[@id='filters_well']/form/div[2]/div[3]/div/button\").click()\n",
    "    # Click on Export to File\n",
    "    driver.find_element_by_xpath(\"//*[@id='billing_content']/div[3]/div[1]/div[2]/button[1]\").click()\n",
    "    # Go to message center\n",
    "    driver.find_element_by_id(\"message_count_display\").click()\n",
    "    # Click on report\n",
    "    driver.find_element_by_xpath(\"//*[@id='content']/div[3]/table/tbody/tr[1]/td[5]/a\").click()\n",
    "    # Download files\n",
    "    driver.find_element_by_xpath(\"//*[@id='messageActions']/div[1]/a[2]\").click()\n",
    "    "
   ]
  },
  {
   "cell_type": "code",
   "execution_count": 8,
   "metadata": {},
   "outputs": [],
   "source": [
    "# Click on Drop Down Menu\n",
    "driver.find_element_by_id('switch-button').click()"
   ]
  },
  {
   "cell_type": "code",
   "execution_count": 9,
   "metadata": {},
   "outputs": [],
   "source": [
    "# Click on Practice Group\n",
    "driver.find_element_by_xpath(\"//*[@id='updateDoctor']/li[\"+ str(len(drop_down_item)) +\"]/a\").click()"
   ]
  },
  {
   "cell_type": "code",
   "execution_count": 10,
   "metadata": {},
   "outputs": [],
   "source": [
    "# Click on Billing->Live Claims Feed\n",
    "driver.get(\"https://practicegroup.drchrono.com/billing/live_claims_feed\")\n",
    "# driver.find_element_by_xpath(\"//*[@id='toolbar']/div/div[1]/div/ul/li[4]/ul/table/tbody/tr/td[1]/li[3]/a\").click()"
   ]
  },
  {
   "cell_type": "code",
   "execution_count": 22,
   "metadata": {},
   "outputs": [],
   "source": [
    "# Set date and Click on Update Filter\n",
    "from_date = '02/11/2019'\n",
    "to_date = '02/28/2019'\n",
    "# driver.find_element_by_id('dp1551461483851').send_keys(from_date)\n",
    "# driver.find_element_by_tag_name('ng-model'='start_date').send_keys(to_date)\n",
    "driver.find_element_by_css_selector('input[ng-model=\"start_date\"]').send_keys(to_date)\n",
    "# driver.find_element_by_id('dp1551461483852').send_keys(to_date)\n",
    "# driver.find_element_by_xpath(\"//*[@id='ui-datepicker-div']/div[2]/button[2]\").click()\n",
    "# driver.find_element_by_xpath(\"//*[@id='filters_well']/form/div[3]/div[3]/div/button\").click()"
   ]
  },
  {
   "cell_type": "code",
   "execution_count": 14,
   "metadata": {},
   "outputs": [],
   "source": [
    "# Click on Export to File\n",
    "driver.find_element_by_xpath(\"//*[@id='billing_content']/div[3]/div[1]/div[2]/button[1]\").click()"
   ]
  },
  {
   "cell_type": "code",
   "execution_count": 15,
   "metadata": {},
   "outputs": [],
   "source": [
    "# Go to message center\n",
    "driver.find_element_by_id(\"message_count_display\").click()"
   ]
  },
  {
   "cell_type": "code",
   "execution_count": 16,
   "metadata": {},
   "outputs": [],
   "source": [
    "# Click on report\n",
    "driver.find_element_by_xpath(\"//*[@id='content']/div[3]/table/tbody/tr[1]/td[5]/a\").click()\n"
   ]
  },
  {
   "cell_type": "code",
   "execution_count": 17,
   "metadata": {},
   "outputs": [],
   "source": [
    "# Download files\n",
    "driver.find_element_by_xpath(\"//*[@id='messageActions']/div[1]/a[2]\").click()"
   ]
  },
  {
   "cell_type": "code",
   "execution_count": 44,
   "metadata": {},
   "outputs": [],
   "source": [
    "import os\n",
    "import datetime\n",
    "curr_date = datetime.datetime.today().date()"
   ]
  },
  {
   "cell_type": "code",
   "execution_count": 65,
   "metadata": {},
   "outputs": [
    {
     "data": {
      "text/plain": [
       "datetime.date(2019, 3, 1)"
      ]
     },
     "execution_count": 65,
     "metadata": {},
     "output_type": "execute_result"
    }
   ],
   "source": [
    "curr_date"
   ]
  },
  {
   "cell_type": "code",
   "execution_count": 69,
   "metadata": {},
   "outputs": [],
   "source": [
    "folder_path = os.path.join(os.getcwd(), 'Live Claims Feed')\n",
    "os.mkdir('Output_' + datetime.datetime.strftime(curr_date, '%Y-%m-%d'))\n"
   ]
  },
  {
   "cell_type": "code",
   "execution_count": 31,
   "metadata": {},
   "outputs": [
    {
     "data": {
      "text/plain": [
       "'D:\\\\Python Practice\\\\CODE_WITH_HARRY\\\\Web Scraping\\\\Live Claims Feed'"
      ]
     },
     "execution_count": 31,
     "metadata": {},
     "output_type": "execute_result"
    }
   ],
   "source": [
    "# To prevent download dialog\n",
    "driver."
   ]
  },
  {
   "cell_type": "code",
   "execution_count": null,
   "metadata": {},
   "outputs": [],
   "source": []
  }
 ],
 "metadata": {
  "kernelspec": {
   "display_name": "Python 3",
   "language": "python",
   "name": "python3"
  },
  "language_info": {
   "codemirror_mode": {
    "name": "ipython",
    "version": 3
   },
   "file_extension": ".py",
   "mimetype": "text/x-python",
   "name": "python",
   "nbconvert_exporter": "python",
   "pygments_lexer": "ipython3",
   "version": "3.7.2"
  }
 },
 "nbformat": 4,
 "nbformat_minor": 2
}
