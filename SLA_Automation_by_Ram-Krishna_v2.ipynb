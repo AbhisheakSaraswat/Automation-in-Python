{
 "cells": [
  {
   "cell_type": "code",
   "execution_count": 2,
   "metadata": {},
   "outputs": [],
   "source": [
    "import pandas as pd\n",
    "import datetime"
   ]
  },
  {
   "cell_type": "code",
   "execution_count": 3,
   "metadata": {},
   "outputs": [
    {
     "name": "stdout",
     "output_type": "stream",
     "text": [
      "Enter Month Number : 3\n"
     ]
    }
   ],
   "source": [
    "# Reading raw data\n",
    "raw_data = pd.read_csv(\"exportdata.csv\")\n",
    "\n",
    "# Get Current Month\n",
    "# curr_month = datetime.datetime.strftime(datetime.datetime.now(), '%m')\n",
    "curr_month = int(input(\"Enter Month Number : \"))\n",
    "\n",
    "# List of CIT bin\n",
    "CIT_BIN = ['I-TBO-BI-CEN-OFSI-L2', \n",
    "           'I-TBO-BI-CEN-EAM-L2', \n",
    "           'I-TBO-BI-CEN-IGIS-L2', \n",
    "           'I-BI-TBO-CEN-CP-INFRATEL-CF', \n",
    "           'I-TBO-BA-CEN-TOC-OPS-L2']"
   ]
  },
  {
   "cell_type": "code",
   "execution_count": 3,
   "metadata": {},
   "outputs": [],
   "source": [
    "# Function to convert in date format\n",
    "def conv_date(date):\n",
    "    try:\n",
    "        return datetime.datetime.strptime(date, '%b %d, %Y %I:%M %p')  # Jan 1, 2019 8:34 PM\n",
    "    except:\n",
    "        try:\n",
    "            return datetime.datetime.strptime(date, '%Y-%m-%d %H:%M:%S')  # 2019-03-11 11:21:00\n",
    "        except:\n",
    "            return datetime.datetime.strptime(date, '%m/%d/%Y %H:%M')  # 1/1/2019 20:34"
   ]
  },
  {
   "cell_type": "code",
   "execution_count": 4,
   "metadata": {},
   "outputs": [],
   "source": [
    "# Removing unwanted data\n",
    "raw_data = raw_data.dropna(subset=['SolvedDate'], axis=0)\n",
    "raw_data['SolvedDate'] = raw_data.apply(lambda x: conv_date(str(x['SolvedDate'])), axis=1)\n",
    "raw_data['Solved_Month'] = raw_data['SolvedDate'].dt.month\n",
    "raw_data = raw_data[raw_data['Solved_Month']==int(curr_month)]\n",
    "raw_data = raw_data[raw_data['ticketType'] == 'INCIDENT']\n",
    "raw_data = raw_data[raw_data['ResolverComp'] != 'AMS']\n",
    "raw_data = raw_data[raw_data['ResolverGroup'].str.contains('L3')==False]\n",
    "\n",
    "\n",
    "# Insert three blank columns\n",
    "raw_data.insert(0, column='Ticket Category', value='')\n",
    "raw_data.insert(1, column='Ticket Status', value='')\n",
    "raw_data.insert(2, column='SLA Status', value='')\n",
    "\n",
    "# Find position of 'InternalPriority' column\n",
    "for index, col in enumerate(raw_data.columns):\n",
    "    if col == 'InternalPriority':\n",
    "        i = index\n",
    "\n",
    "# Insert 'Resolution Time' column after 'InternalPriority' column\n",
    "raw_data.insert(i+1, column='Resolution Time', value='')"
   ]
  },
  {
   "cell_type": "code",
   "execution_count": 5,
   "metadata": {},
   "outputs": [],
   "source": [
    "# Function to get filter 'Ticket Category' \n",
    "def ticket_category(contactcode, affectedby, resolvergroup, statusboard, itdrescode):\n",
    "    if contactcode == 'EVENTMANAGEMENT':\n",
    "        return 'Event Management'\n",
    "    elif contactcode == 'IBM INTERNAL':\n",
    "        return 'IBM Internal'\n",
    "    elif affectedby[0] == 'A':\n",
    "        return 'IBM Internal'\n",
    "    elif resolvergroup[0] == 'C':\n",
    "        return 'Customer Owned'\n",
    "    elif 'NONIBM' in resolvergroup:\n",
    "        return 'Non IBM'\n",
    "    elif 'RFC' in resolvergroup:\n",
    "        return 'RFC Tickets'\n",
    "    elif 'CHILD' in statusboard:\n",
    "        return 'Child Ticket'\n",
    "    elif 'DATA' in itdrescode:\n",
    "        return 'Data Issue'\n",
    "    elif 'KNOWLEDGE' in itdrescode:\n",
    "        return 'Knowledge Issue'\n",
    "    elif 'BIZ' in itdrescode:\n",
    "        return 'BIZ Action'\n",
    "    elif 'THIRD' in itdrescode:\n",
    "        return 'Third Party'\n",
    "    elif itdrescode == 'FIXCODE':\n",
    "        return 'FIXCODE'\n",
    "    elif 'DUPLICATE' in itdrescode:\n",
    "        return 'DUPLICATE TICKET'\n",
    "    else:\n",
    "        return 'NA'"
   ]
  },
  {
   "cell_type": "code",
   "execution_count": 6,
   "metadata": {},
   "outputs": [],
   "source": [
    "# Apply 'ticket_category' function to get Ticket Category\n",
    "raw_data['Ticket Category'] = raw_data.apply(lambda x: ticket_category(str(x['contactcode']), str(x['Affectedby']), \n",
    "                                                                       str(x['ResolverGroup']), str(x['statusBoard']), \n",
    "                                                                       str(x['ITDRESCODE'])), axis=1)"
   ]
  },
  {
   "cell_type": "code",
   "execution_count": 7,
   "metadata": {},
   "outputs": [],
   "source": [
    "# Function to update 'Ticket Status' \n",
    "def change_status(ticket_category):\n",
    "    if ticket_category == \"NA\":\n",
    "        return 'NA'\n",
    "    else:\n",
    "        return 'Exclusion'"
   ]
  },
  {
   "cell_type": "code",
   "execution_count": 8,
   "metadata": {},
   "outputs": [],
   "source": [
    "# Applying function to update 'Ticket Status' and 'SLA Status' \n",
    "raw_data['Ticket Status'] = raw_data.apply(lambda x: change_status(x['Ticket Category']), axis=1)\n",
    "raw_data['SLA Status'] = raw_data.apply(lambda x: change_status(x['Ticket Category']), axis=1)"
   ]
  },
  {
   "cell_type": "code",
   "execution_count": 9,
   "metadata": {},
   "outputs": [],
   "source": [
    "# Function to update CIT and Non CIT\n",
    "def cit(ticket_category, resolvergroup):\n",
    "    if ticket_category == 'NA' and resolvergroup in CIT_BIN:\n",
    "        return 'CIT'\n",
    "    elif ticket_category == 'NA' and resolvergroup not in CIT_BIN:\n",
    "        return 'Non CIT'\n",
    "    else:\n",
    "        return ticket_category"
   ]
  },
  {
   "cell_type": "code",
   "execution_count": 10,
   "metadata": {},
   "outputs": [],
   "source": [
    "# Applying cit function to update CIT and Non CIT in 'Ticket Category' column\n",
    "raw_data['Ticket Category'] = raw_data.apply(lambda x: cit(x['Ticket Category'], x['ResolverGroup']), axis=1)"
   ]
  },
  {
   "cell_type": "code",
   "execution_count": 11,
   "metadata": {},
   "outputs": [],
   "source": [
    "# Function to update 'Ticket Status' \n",
    "def change_status2(ticket_category):\n",
    "    if ticket_category == \"CIT\":\n",
    "        return 'CIT'\n",
    "    elif ticket_category == \"Non CIT\":\n",
    "        return 'Non CIT'\n",
    "    else:\n",
    "        return 'Exclusion'"
   ]
  },
  {
   "cell_type": "code",
   "execution_count": 13,
   "metadata": {},
   "outputs": [],
   "source": [
    "# Applying function to update 'Ticket Status' and 'SLA Status'\n",
    "raw_data['Ticket Status'] = raw_data.apply(lambda x: change_status2(x['Ticket Category']), axis=1)\n",
    "# raw_data['SLA Status'] = raw_data.apply(lambda x: change_status2(x['Ticket Category']), axis=1)\n",
    "\n",
    "# Delete 'Solved_Month' column \n",
    "raw_data = raw_data.drop(labels=['Solved_Month'], axis=1)"
   ]
  },
  {
   "cell_type": "code",
   "execution_count": 14,
   "metadata": {},
   "outputs": [
    {
     "name": "stdout",
     "output_type": "stream",
     "text": [
      "Final Data has been exported in csv format. Please goto homepage and download the output data. !!!\n"
     ]
    }
   ],
   "source": [
    "raw_data.to_csv('final_rawdata.csv', index=False)\n",
    "print(\"Final Data has been exported in csv format. Please goto homepage and download the output data. !!!\")"
   ]
  },
  {
   "cell_type": "code",
   "execution_count": 18,
   "metadata": {},
   "outputs": [],
   "source": [
    "# raw_data"
   ]
  }
 ],
 "metadata": {
  "kernelspec": {
   "display_name": "Python 3",
   "language": "python",
   "name": "python3"
  },
  "language_info": {
   "codemirror_mode": {
    "name": "ipython",
    "version": 3
   },
   "file_extension": ".py",
   "mimetype": "text/x-python",
   "name": "python",
   "nbconvert_exporter": "python",
   "pygments_lexer": "ipython3",
   "version": "3.7.2"
  }
 },
 "nbformat": 4,
 "nbformat_minor": 2
}
